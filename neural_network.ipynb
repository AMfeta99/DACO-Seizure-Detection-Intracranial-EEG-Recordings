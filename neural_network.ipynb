{
  "nbformat": 4,
  "nbformat_minor": 0,
  "metadata": {
    "colab": {
      "name": "Untitled1.ipynb",
      "provenance": []
    },
    "kernelspec": {
      "name": "python3",
      "display_name": "Python 3"
    }
  },
  "cells": [
    {
      "cell_type": "code",
      "metadata": {
        "id": "iSnHocSXvkHf"
      },
      "source": [
        "\"\"\"\r\n",
        "Seizure Prediction from intracranial EEG\r\n",
        "DACO 2020/2021\r\n",
        "\r\n",
        "This file reads all the data from the training and test set.\r\n",
        "\r\n",
        "@authors: Ana Maria Sousa, Mariana Xavier, Rui Santos\r\n",
        "\"\"\"\r\n",
        "\r\n",
        "import os\r\n",
        "import scipy.io\r\n",
        "import numpy as np\r\n",
        "from scipy.fft import rfft\r\n",
        "\r\n",
        "# Run the training dir.\r\n",
        "for dirname, _, filenames in os.walk('/content/drive/MyDrive/train'):\r\n",
        "       \r\n",
        "  # Read each of the files.\r\n",
        "  for filename in filenames:\r\n",
        "      print(filename)\r\n",
        "      \r\n",
        "      # Load the data from each file.\r\n",
        "      data = scipy.io.loadmat(os.path.join(dirname, filename))\r\n",
        "           \r\n",
        "      # Get the field corresponding to the segments.\r\n",
        "      train_data = data.get(list(data.keys())[3])\r\n",
        "            \r\n",
        "      # Get in a separate array the values of EEG for the different channels.\r\n",
        "      data = train_data['data'][0][0]\r\n",
        "    \r\n",
        "      # Considering all the different channels as representative of the EEG.\r\n",
        "      for channel in range (data.shape[0]):\r\n",
        "          # guardar ficheiros na drive em formato .npy\r\n",
        "          np.save('/content/drive/MyDrive/fft/' + filename[:len(filename)-4] + '_channel_' + str(channel) + '.npy',abs(rfft(data[channel])))\r\n"
      ],
      "execution_count": null,
      "outputs": []
    },
    {
      "cell_type": "code",
      "metadata": {
        "id": "rNKVxDheyqNS",
        "colab": {
          "base_uri": "https://localhost:8080/",
          "height": 276
        },
        "outputId": "95856d8f-3066-4d15-d413-aed175c68103"
      },
      "source": [
        "import numpy as np\r\n",
        "from scipy.fft import rfftfreq\r\n",
        "import matplotlib.pyplot as plt\r\n",
        "\r\n",
        "arr = np.load('/content/drive/MyDrive/fft/Patient_1_interictal_segment_0001_channel_0.npy') # como ler os ficheiros\r\n",
        "freq = rfftfreq(3000000,1/5000)\r\n",
        "\r\n",
        "plt.figure()\r\n",
        "plt.plot(freq[:1000],arr[:1000])\r\n",
        "plt.show()\r\n"
      ],
      "execution_count": 5,
      "outputs": [
        {
          "output_type": "display_data",
          "data": {
            "image/png": "[encoded data removed]",
            "text/plain": [
              "<Figure size 432x288 with 1 Axes>"
            ]
          },
          "metadata": {
            "tags": [],
            "needs_background": "light"
          }
        }
      ]
    },
    {
      "cell_type": "code",
      "metadata": {
        "id": "I5aV5mzQI804"
      },
      "source": [
        "import torch.nn as nn\r\n",
        "import torch.nn.functional as F\r\n",
        "\r\n",
        "class Net(nn.Module):\r\n",
        "  def __init__(self):\r\n",
        "    super().__init__()\r\n",
        "\r\n",
        "    self.fc1 = nn.Linear(1500001,64)\r\n",
        "    self.fc2 = nn.Linear(64,64)\r\n",
        "    self.fc3 = nn.Linear(64,64)\r\n",
        "    self.fc4 = nn.Linear(64,2)\r\n",
        "\r\n",
        "  def forward(self,x):\r\n",
        "    x = F.relu(self.fc1(x))\r\n",
        "    x = F.relu(self.fc2(x))\r\n",
        "    x = F.relu(self.fc3(x))\r\n",
        "    x = F.log_softmax(self.fc4(x),dim=0)\r\n",
        "\r\n",
        "    return x\r\n",
        "\r\n",
        "net = Net()\r\n",
        "net = net.double()"
      ],
      "execution_count": 75,
      "outputs": []
    },
    {
      "cell_type": "code",
      "metadata": {
        "id": "Kbz6sxs7I83u"
      },
      "source": [
        "import os\r\n",
        "import random\r\n",
        "import numpy as np\r\n",
        "import torch.optim as optim\r\n",
        "import torch.tensor as tensor\r\n",
        "import torch\r\n",
        "\r\n",
        "optimizer = optim.Adam(net.parameters(),lr=0.001)\r\n",
        "\r\n",
        "filenames = [line[2] for line in os.walk('/content/drive/MyDrive/fft')][0]\r\n",
        "\r\n",
        "batch_size = 10\r\n",
        "epochs = 1\r\n",
        "\r\n",
        "for epoch in range(epochs):\r\n",
        "\r\n",
        "  random.shuffle(filenames)\r\n",
        "  batches = [filenames[i:i+batch_size] for i in range(0,len(filenames),batch_size)]\r\n",
        "\r\n",
        "  for batch in batches:\r\n",
        "\r\n",
        "    y = tensor([int('preictal' in i) for i in batch])\r\n",
        "    x = [tensor(np.load('/content/drive/MyDrive/fft/' + file)) for file in batch]\r\n",
        "    x = torch.stack(x)\r\n",
        "    \r\n",
        "    \r\n",
        "    net.zero_grad()\r\n",
        "    output = net(x)\r\n",
        "    print(output)\r\n",
        "    loss = F.nll_loss(output,y)\r\n",
        "    loss.backward()\r\n",
        "    optimizer.step()\r\n",
        "    print(loss)"
      ],
      "execution_count": null,
      "outputs": []
    },
    {
      "cell_type": "code",
      "metadata": {
        "id": "1359B71d9x3X"
      },
      "source": [
        ""
      ],
      "execution_count": null,
      "outputs": []
    }
  ]
}