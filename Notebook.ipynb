{
  "nbformat": 4,
  "nbformat_minor": 0,
  "metadata": {
    "colab": {
      "name": "Untitled0.ipynb",
      "provenance": [],
      "authorship_tag": "ABX9TyMFSmF/rA8rQSv/bs/syw3G",
      "include_colab_link": true
    },
    "kernelspec": {
      "name": "python3",
      "display_name": "Python 3"
    }
  },
  "cells": [
    {
      "cell_type": "markdown",
      "metadata": {
        "id": "view-in-github",
        "colab_type": "text"
      },
      "source": [
        "<a href=\"https://colab.research.google.com/github/marixi/DACO-Seizure-Detection-Intracranial-EEG-Recordings/blob/main/Notebook.ipynb\" target=\"_parent\"><img src=\"https://colab.research.google.com/assets/colab-badge.svg\" alt=\"Open In Colab\"/></a>"
      ]
    },
    {
      "cell_type": "code",
      "metadata": {
        "colab": {
          "base_uri": "https://localhost:8080/"
        },
        "id": "sJl4E5M8lbGp",
        "outputId": "f1f23814-1e98-44ae-b931-84182edd7f0f"
      },
      "source": [
        "! git clone https://github.com/marixi/DACO-Seizure-Detection-Intracranial-EEG-Recordings"
      ],
      "execution_count": 3,
      "outputs": [
        {
          "output_type": "stream",
          "text": [
            "Cloning into 'DACO-Seizure-Detection-Intracranial-EEG-Recordings'...\n",
            "remote: Enumerating objects: 22, done.\u001b[K\n",
            "remote: Counting objects:   4% (1/22)\u001b[K\rremote: Counting objects:   9% (2/22)\u001b[K\rremote: Counting objects:  13% (3/22)\u001b[K\rremote: Counting objects:  18% (4/22)\u001b[K\rremote: Counting objects:  22% (5/22)\u001b[K\rremote: Counting objects:  27% (6/22)\u001b[K\rremote: Counting objects:  31% (7/22)\u001b[K\rremote: Counting objects:  36% (8/22)\u001b[K\rremote: Counting objects:  40% (9/22)\u001b[K\rremote: Counting objects:  45% (10/22)\u001b[K\rremote: Counting objects:  50% (11/22)\u001b[K\rremote: Counting objects:  54% (12/22)\u001b[K\rremote: Counting objects:  59% (13/22)\u001b[K\rremote: Counting objects:  63% (14/22)\u001b[K\rremote: Counting objects:  68% (15/22)\u001b[K\rremote: Counting objects:  72% (16/22)\u001b[K\rremote: Counting objects:  77% (17/22)\u001b[K\rremote: Counting objects:  81% (18/22)\u001b[K\rremote: Counting objects:  86% (19/22)\u001b[K\rremote: Counting objects:  90% (20/22)\u001b[K\rremote: Counting objects:  95% (21/22)\u001b[K\rremote: Counting objects: 100% (22/22)\u001b[K\rremote: Counting objects: 100% (22/22), done.\u001b[K\n",
            "remote: Compressing objects:   5% (1/19)\u001b[K\rremote: Compressing objects:  10% (2/19)\u001b[K\rremote: Compressing objects:  15% (3/19)\u001b[K\rremote: Compressing objects:  21% (4/19)\u001b[K\rremote: Compressing objects:  26% (5/19)\u001b[K\rremote: Compressing objects:  31% (6/19)\u001b[K\rremote: Compressing objects:  36% (7/19)\u001b[K\rremote: Compressing objects:  42% (8/19)\u001b[K\rremote: Compressing objects:  47% (9/19)\u001b[K\rremote: Compressing objects:  52% (10/19)\u001b[K\rremote: Compressing objects:  57% (11/19)\u001b[K\rremote: Compressing objects:  63% (12/19)\u001b[K\rremote: Compressing objects:  68% (13/19)\u001b[K\rremote: Compressing objects:  73% (14/19)\u001b[K\rremote: Compressing objects:  78% (15/19)\u001b[K\rremote: Compressing objects:  84% (16/19)\u001b[K\rremote: Compressing objects:  89% (17/19)\u001b[K\rremote: Compressing objects:  94% (18/19)\u001b[K\rremote: Compressing objects: 100% (19/19)\u001b[K\rremote: Compressing objects: 100% (19/19), done.\u001b[K\n",
            "remote: Total 22 (delta 6), reused 15 (delta 3), pack-reused 0\u001b[K\n",
            "Unpacking objects: 100% (22/22), done.\n"
          ],
          "name": "stdout"
        }
      ]
    }
  ]
}