{
  "nbformat": 4,
  "nbformat_minor": 0,
  "metadata": {
    "colab": {
      "name": "Untitled1.ipynb",
      "provenance": []
    },
    "kernelspec": {
      "name": "python3",
      "display_name": "Python 3"
    },
    "accelerator": "GPU"
  },
  "cells": [
    {
      "cell_type": "code",
      "metadata": {
        "id": "iSnHocSXvkHf"
      },
      "source": [
        "\"\"\"\r\n",
        "Seizure Prediction from intracranial EEG\r\n",
        "DACO 2020/2021\r\n",
        "\r\n",
        "This file reads all the data from the training and test set.\r\n",
        "\r\n",
        "@authors: Ana Maria Sousa, Mariana Xavier, Rui Santos\r\n",
        "\"\"\"\r\n",
        "\r\n",
        "import os\r\n",
        "import scipy.io\r\n",
        "import numpy as np\r\n",
        "from scipy.fft import rfft\r\n",
        "\r\n",
        "# Run the training dir.\r\n",
        "for dirname, _, filenames in os.walk('/content/drive/MyDrive/train'):\r\n",
        "       \r\n",
        "  # Read each of the files.\r\n",
        "  for filename in filenames:\r\n",
        "      print(filename)\r\n",
        "      \r\n",
        "      # Load the data from each file.\r\n",
        "      data = scipy.io.loadmat(os.path.join(dirname, filename))\r\n",
        "           \r\n",
        "      # Get the field corresponding to the segments.\r\n",
        "      train_data = data.get(list(data.keys())[3])\r\n",
        "            \r\n",
        "      # Get in a separate array the values of EEG for the different channels.\r\n",
        "      data = train_data['data'][0][0]\r\n",
        "    \r\n",
        "      # Considering all the different channels as representative of the EEG.\r\n",
        "      for channel in range (data.shape[0]):\r\n",
        "          # guardar ficheiros na drive em formato .npy\r\n",
        "          np.save('/content/drive/MyDrive/fft/' + filename[:len(filename)-4] + '_channel_' + str(channel) + '.npy',abs(rfft(data[channel])))\r\n"
      ],
      "execution_count": null,
      "outputs": []
    },
    {
      "cell_type": "code",
      "metadata": {
        "id": "rNKVxDheyqNS"
      },
      "source": [
        "arr = np.load('/content/drive/MyDrive/fft/Patient_1_interictal_segment_0001_channel_0.npy') # como ler os ficheiros"
      ],
      "execution_count": null,
      "outputs": []
    }
  ]
}